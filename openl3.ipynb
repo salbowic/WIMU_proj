{
 "cells": [
  {
   "cell_type": "code",
   "execution_count": null,
   "metadata": {},
   "outputs": [],
   "source": [
    "import openl3\n",
    "import soundfile as sf\n"
   ]
  },
  {
   "cell_type": "code",
   "execution_count": 4,
   "metadata": {},
   "outputs": [
    {
     "name": "stdout",
     "output_type": "stream",
     "text": [
      "WARNING:tensorflow:From p:\\Anaconda\\envs\\wimu_env\\Lib\\site-packages\\keras\\src\\backend\\tensorflow\\core.py:204: The name tf.placeholder is deprecated. Please use tf.compat.v1.placeholder instead.\n",
      "\n",
      "\u001b[1m1/1\u001b[0m \u001b[32m━━━━━━━━━━━━━━━━━━━━\u001b[0m\u001b[37m\u001b[0m \u001b[1m1s\u001b[0m 749ms/step\n"
     ]
    }
   ],
   "source": [
    "audio, sr = sf.read('stereol.wav')\n",
    "emb, ts = openl3.get_audio_embedding(audio, sr)"
   ]
  },
  {
   "cell_type": "code",
   "execution_count": null,
   "metadata": {},
   "outputs": [
    {
     "name": "stdout",
     "output_type": "stream",
     "text": [
      "[[ 2.4308367   1.1149539   1.8192565  ... -0.14750384  2.331486\n",
      "   1.4019295 ]\n",
      " [ 2.4308367   1.1149539   1.8192565  ...  0.01164658  2.3305151\n",
      "   1.3085853 ]\n",
      " [ 2.6217465   1.1149539   2.4758582  ... -0.08608421  2.2776606\n",
      "   1.3078012 ]\n",
      " ...\n",
      " [ 2.0100172   1.1714072   2.2978308  ... -0.08729362  2.2830138\n",
      "   1.3106736 ]\n",
      " [ 1.7203696   1.1702499   1.9281399  ... -0.0668383   2.2445908\n",
      "   1.3707782 ]\n",
      " [ 1.7935752   1.125279    1.8138891  ... -0.02365693  4.1058865\n",
      "   1.3602196 ]]\n"
     ]
    }
   ],
   "source": [
    "print(emb)\n"
   ]
  }
 ],
 "metadata": {
  "kernelspec": {
   "display_name": "wimu_env",
   "language": "python",
   "name": "python3"
  },
  "language_info": {
   "codemirror_mode": {
    "name": "ipython",
    "version": 3
   },
   "file_extension": ".py",
   "mimetype": "text/x-python",
   "name": "python",
   "nbconvert_exporter": "python",
   "pygments_lexer": "ipython3",
   "version": "3.11.9"
  }
 },
 "nbformat": 4,
 "nbformat_minor": 2
}
