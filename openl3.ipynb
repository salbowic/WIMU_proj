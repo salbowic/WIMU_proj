{
 "cells": [
  {
   "cell_type": "code",
   "execution_count": 3,
   "metadata": {},
   "outputs": [],
   "source": [
    "import openl3\n",
    "import soundfile as sf\n",
    "import numpy as np\n",
    "import pretty_midi"
   ]
  },
  {
   "cell_type": "markdown",
   "metadata": {},
   "source": [
    "Przekształcenie pliku .mid na .wav"
   ]
  },
  {
   "cell_type": "code",
   "execution_count": null,
   "metadata": {},
   "outputs": [],
   "source": [
    "# Load the MIDI file\n",
    "midi_data = pretty_midi.PrettyMIDI('sounds/Only-The-Lonely-2.mid')\n",
    "\n",
    "# Synthesize audio with a default piano instrument\n",
    "audio_data = midi_data.synthesize(fs=44100)\n",
    "\n",
    "# Normalize the audio to ensure it's within the valid range\n",
    "audio_data = np.int16(audio_data / np.max(np.abs(audio_data)) * 32767)\n",
    "\n",
    "# Save as WAV, OGG, or FLAC (choose the format by changing the file extension)\n",
    "sf.write('sounds/Converted-Only-The-Lonely-2.wav', audio_data, 44100)  # for WAV"
   ]
  },
  {
   "cell_type": "code",
   "execution_count": 8,
   "metadata": {},
   "outputs": [
    {
     "name": "stdout",
     "output_type": "stream",
     "text": [
      "\u001b[1m46/46\u001b[0m \u001b[32m━━━━━━━━━━━━━━━━━━━━\u001b[0m\u001b[37m\u001b[0m \u001b[1m67s\u001b[0m 1s/step\n"
     ]
    }
   ],
   "source": [
    "audio, sr = sf.read('sounds/Converted-Only-The-Lonely-2.wav')\n",
    "emb, ts = openl3.get_audio_embedding(audio, sr)"
   ]
  },
  {
   "cell_type": "code",
   "execution_count": 9,
   "metadata": {},
   "outputs": [
    {
     "name": "stdout",
     "output_type": "stream",
     "text": [
      "(1464, 6144)\n"
     ]
    }
   ],
   "source": [
    "print(emb.shape)"
   ]
  }
 ],
 "metadata": {
  "kernelspec": {
   "display_name": "wimu_env",
   "language": "python",
   "name": "python3"
  },
  "language_info": {
   "codemirror_mode": {
    "name": "ipython",
    "version": 3
   },
   "file_extension": ".py",
   "mimetype": "text/x-python",
   "name": "python",
   "nbconvert_exporter": "python",
   "pygments_lexer": "ipython3",
   "version": "3.11.9"
  }
 },
 "nbformat": 4,
 "nbformat_minor": 2
}
